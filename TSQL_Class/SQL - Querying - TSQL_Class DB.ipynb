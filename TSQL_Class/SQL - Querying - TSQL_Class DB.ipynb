{
 "cells": [
  {
   "cell_type": "code",
   "execution_count": 13,
   "id": "2d33eb02",
   "metadata": {},
   "outputs": [],
   "source": [
    "import pyodbc\n",
    "\n",
    "# defining the server and the database\n",
    "server = '(localdb)\\mssqllocaldb' \n",
    "database = 'TSQL_CLASS'  \n",
    "\n",
    "# Define the connection string\n",
    "conn = pyodbc.connect(\n",
    "    'DRIVER={ODBC Driver 17 for SQL Server}; \\\n",
    "    SERVER='+ server +'; \\\n",
    "    DATABASE ='+ database +';\\\n",
    "    Trusted_Connection=yes;'\n",
    ")"
   ]
  },
  {
   "cell_type": "code",
   "execution_count": 27,
   "id": "12723fce",
   "metadata": {},
   "outputs": [
    {
     "name": "stdout",
     "output_type": "stream",
     "text": [
      "('Hard drive', )\n",
      "('Memory', )\n",
      "('ZIP drive', )\n",
      "('Floppy disk', )\n",
      "('Monitor', )\n",
      "('DVD drive', )\n",
      "('CD drive', )\n",
      "('Printer', )\n",
      "('Toner cartridge', )\n",
      "('DVD burner', )\n"
     ]
    }
   ],
   "source": [
    "# Question 1 - TSQL_Class DB\n",
    "# Select the names of all the products in the store.\n",
    "\n",
    "# Create the Cursor.\n",
    "cursor = conn.cursor()\n",
    "\n",
    "# Select the names of all products from dbo.Products table using SELECT statement\n",
    "cursor.execute('SELECT Name FROM [TSQL_CLASS].[dbo].[Products]')\n",
    "for row in cursor:\n",
    "    print(row)\n",
    "    "
   ]
  },
  {
   "cell_type": "code",
   "execution_count": 28,
   "id": "cd02f225",
   "metadata": {},
   "outputs": [
    {
     "name": "stdout",
     "output_type": "stream",
     "text": [
      "('Hard drive', Decimal('240'))\n",
      "('Memory', Decimal('120'))\n",
      "('ZIP drive', Decimal('150'))\n",
      "('Floppy disk', Decimal('5'))\n",
      "('Monitor', Decimal('240'))\n",
      "('DVD drive', Decimal('180'))\n",
      "('CD drive', Decimal('90'))\n",
      "('Printer', Decimal('270'))\n",
      "('Toner cartridge', Decimal('66'))\n",
      "('DVD burner', Decimal('180'))\n"
     ]
    }
   ],
   "source": [
    "# Question 2 - TSQL_Class DB\n",
    "# Select the names and the prices of all the products in the store.\n",
    "\n",
    "# Create the Cursor.\n",
    "cursor = conn.cursor()\n",
    "\n",
    "# Select the names and the prices of all products using SELECT statement specifying (name, price)\n",
    "cursor.execute('SELECT Name as Product, Price as [Cost per unit] FROM [TSQL_Class].[dbo].[Products]')\n",
    "for row in cursor: \n",
    "    print(row)\n",
    "\n",
    "# close the cursor\n",
    "#cursor.close()\n",
    "#conn.close()"
   ]
  },
  {
   "cell_type": "code",
   "execution_count": 2,
   "id": "88ccbf60",
   "metadata": {},
   "outputs": [
    {
     "name": "stdout",
     "output_type": "stream",
     "text": [
      "('Memory', )\n",
      "('ZIP drive', )\n",
      "('Floppy disk', )\n",
      "('DVD drive', )\n",
      "('CD drive', )\n",
      "('Toner cartridge', )\n",
      "('DVD burner', )\n"
     ]
    }
   ],
   "source": [
    "# Question 3 - TSQL_Class DB\n",
    "# Select the name of the products with a price less than or equal to $200.\n",
    "\n",
    "#Create the Cursor()\n",
    "cursor = conn.cursor()\n",
    "\n",
    "# Select all the products with a price less than or equal to $200 using (<=) comparison operator\n",
    "cursor.execute('SELECT Name FROM [TSQL_Class].[dbo].[Products] WHERE Price <= 200')\n",
    "for row in cursor:\n",
    "    print(row)\n",
    "\n",
    "# close the cursor\n",
    "# cursor.close()\n",
    "# conn.close()"
   ]
  },
  {
   "cell_type": "code",
   "execution_count": 34,
   "id": "d3cafc10",
   "metadata": {},
   "outputs": [
    {
     "name": "stdout",
     "output_type": "stream",
     "text": [
      "(2, 'Memory', Decimal('120'), 6)\n",
      "(7, 'CD drive', Decimal('90'), 2)\n",
      "(9, 'Toner cartridge', Decimal('66'), 3)\n"
     ]
    }
   ],
   "source": [
    "# Question 4 - TSQL_Class DB\n",
    "# Select all the products with a price between $60 and $120.\n",
    "\n",
    "# Create the Cursor()\n",
    "cursor = conn.cursor()\n",
    "\n",
    "# Select all the products in Products table between the price of 60 and 120 using >= AND <= comparison operator\n",
    "cursor.execute('SELECT * FROM [TSQL_Class].[dbo].[Products] WHERE Price >= 60 AND Price <= 120')\n",
    "for row in cursor:\n",
    "    print(row)\n",
    "    \n",
    "\n",
    "# close the cursor\n",
    "# cursor.close()\n",
    "# conn.close()"
   ]
  },
  {
   "cell_type": "code",
   "execution_count": 35,
   "id": "8dd6374f",
   "metadata": {},
   "outputs": [
    {
     "name": "stdout",
     "output_type": "stream",
     "text": [
      "('Hard drive', Decimal('24000'))\n",
      "('Memory', Decimal('12000'))\n",
      "('ZIP drive', Decimal('15000'))\n",
      "('Floppy disk', Decimal('500'))\n",
      "('Monitor', Decimal('24000'))\n",
      "('DVD drive', Decimal('18000'))\n",
      "('CD drive', Decimal('9000'))\n",
      "('Printer', Decimal('27000'))\n",
      "('Toner cartridge', Decimal('6600'))\n",
      "('DVD burner', Decimal('18000'))\n"
     ]
    }
   ],
   "source": [
    "# Question 5 - TSQL_Class DB\n",
    "# Select the name and price in cents (i.e., the price must be multiplied by 100).\n",
    "\n",
    "# Create the Cursor()\n",
    "cursor = conn.cursor()\n",
    "\n",
    "# Multiplying Price field by 100 to get the price in cents\n",
    "cursor.execute('SELECT Name, Price*100 FROM [TSQL_Class].[dbo].[Products]')\n",
    "for row in cursor:\n",
    "    print(row)\n",
    "    \n",
    "# close the cursor\n",
    "# cursor.close()\n",
    "# conn.close()"
   ]
  },
  {
   "cell_type": "code",
   "execution_count": 5,
   "id": "fccc1f61",
   "metadata": {},
   "outputs": [
    {
     "name": "stdout",
     "output_type": "stream",
     "text": [
      "('Printer', Decimal('270'))\n",
      "('Hard drive', Decimal('240'))\n",
      "('Monitor', Decimal('240'))\n",
      "('DVD burner', Decimal('180'))\n",
      "('DVD drive', Decimal('180'))\n"
     ]
    }
   ],
   "source": [
    "# Question 6 - TSQL 1\n",
    "# Select the name and price of all products with a price \n",
    "#larger than or equal to $180, and sort first by price (in \n",
    "#descending order), and then by name (in ascending \n",
    "#order).\n",
    "\n",
    "# Create the Cursor()\n",
    "cursor = conn.cursor()\n",
    "\n",
    "# Using a SELECT statement to find all the products with a price larger than or equal to 180\n",
    "# first sort by price in descending order \n",
    "# second sort by name in ascending order \n",
    "\n",
    "cursor.execute('SELECT Name, Price FROM [TSQL_Class].[dbo].[Products] WHERE Price >= 180 ORDER BY Price DESC, Name')\n",
    "for row in cursor:\n",
    "    print(row)\n",
    "    \n",
    "# close the cursor\n",
    "# cursor.close()\n",
    "# conn.close()"
   ]
  },
  {
   "cell_type": "code",
   "execution_count": 20,
   "id": "c83a2b47",
   "metadata": {},
   "outputs": [
    {
     "name": "stdout",
     "output_type": "stream",
     "text": [
      "('Rogers', )\n",
      "('Scott', )\n",
      "('Smith', )\n",
      "('Stevens', )\n",
      "('Foster', )\n",
      "('ODonnell', )\n",
      "('Doe', )\n",
      "('Smith', )\n",
      "('Efron', )\n",
      "('Goldsmith', )\n",
      "('Doe', )\n",
      "('Swamy', )\n"
     ]
    }
   ],
   "source": [
    "# Question 7 - TSQL_Class DB\n",
    "# Select the last name of all employees.\n",
    "\n",
    "# Create the Cursor()\n",
    "cursor = conn.cursor()\n",
    "\n",
    "# Using the SELECT statement print the last name of all employees in the Employeea table\n",
    "cursor.execute('SELECT LastName FROM [TSQL_CLASS].[dbo].[Employees]')\n",
    "for row in cursor:\n",
    "    print(row)\n",
    "    \n",
    "\n",
    "\n",
    "# close the cursor\n",
    "# cursor.close()\n",
    "# conn.close()"
   ]
  },
  {
   "cell_type": "code",
   "execution_count": 24,
   "id": "28bfad6b",
   "metadata": {},
   "outputs": [
    {
     "name": "stdout",
     "output_type": "stream",
     "text": [
      "('Doe', )\n",
      "('Efron', )\n",
      "('Foster', )\n",
      "('Goldsmith', )\n",
      "('ODonnell', )\n",
      "('Rogers', )\n",
      "('Scott', )\n",
      "('Smith', )\n",
      "('Stevens', )\n",
      "('Swamy', )\n"
     ]
    }
   ],
   "source": [
    "# Question 8 - TSQL_Class DB\n",
    "# Select the last name of all employees, without duplicates. \n",
    "\n",
    "# Create the Cursor()\n",
    "cursor = conn.cursor()\n",
    "\n",
    "# Using Select statment to print the last name of all employees, without duplicates (implenting DISTINCT).\n",
    "cursor.execute('SELECT DISTINCT LastName FROM [TSQL_CLASS].[dbo].[Employees]')\n",
    "for row in cursor:\n",
    "    print(row)\n",
    "    \n",
    "# close the cursor\n",
    "# cursor.close()\n",
    "# conn.close()"
   ]
  },
  {
   "cell_type": "code",
   "execution_count": 33,
   "id": "ffa633ee",
   "metadata": {},
   "outputs": [
    {
     "name": "stdout",
     "output_type": "stream",
     "text": [
      "(222364883, 'Carol', 'Smith', 37)\n",
      "(631231482, 'David', 'Smith', 77)\n"
     ]
    }
   ],
   "source": [
    "# Question 9 - TSQL_Class DB\n",
    "# Select all the data of employees whose last name is \"Smith\".\n",
    "\n",
    "# Create the Cursor()\n",
    "cursor = conn.cursor()\n",
    "\n",
    "# Using the where clause to filter employees with only the last name Smith \n",
    "cursor.execute(\"\"\"SELECT * FROM [TSQL_CLASS].[dbo].[Employees] WHERE LastName = 'Smith' \"\"\")\n",
    "for row in cursor:\n",
    "    print(row)\n",
    "    \n",
    "# close the cursor\n",
    "# cursor.close()\n",
    "# conn.close()"
   ]
  },
  {
   "cell_type": "code",
   "execution_count": 36,
   "id": "4cc52c2b",
   "metadata": {},
   "outputs": [
    {
     "name": "stdout",
     "output_type": "stream",
     "text": [
      "(546523478, 'Kate', 'Doe', 59)\n",
      "(845657245, 'Elizabeth', 'Doe', 14)\n",
      "(222364883, 'Carol', 'Smith', 37)\n",
      "(631231482, 'David', 'Smith', 77)\n"
     ]
    }
   ],
   "source": [
    "# Question 10 - TSQL_Class DB\n",
    "# Select all the data of employees whose last name is \"Smith\" or \"Doe\"\n",
    "\n",
    "# Create the Cursor\n",
    "cursor = conn.cursor()\n",
    "\n",
    "# Using the Where clause to filter employees with the last name Smith OR Doe\n",
    "cursor.execute(\"\"\"SELECT * FROM [TSQL_CLASS].[dbo].[Employees] WHERE LastName = 'Smith' or LastName = 'Doe' ORDER BY LastName\"\"\")\n",
    "for row in cursor:\n",
    "    print(row)\n",
    "\n",
    "\n",
    "# close the cursor\n",
    "# cursor.close()\n",
    "# conn.close()"
   ]
  },
  {
   "cell_type": "code",
   "execution_count": 5,
   "id": "f762afc2",
   "metadata": {},
   "outputs": [
    {
     "name": "stdout",
     "output_type": "stream",
     "text": [
      "(123234877, 'Michael', 'Rogers', 14)\n",
      "(152934485, 'Sasi', 'Scott', 14)\n",
      "(332154719, 'Mary-Anne', 'Foster', 14)\n",
      "(845657245, 'Elizabeth', 'Doe', 14)\n",
      "(845657246, 'Kumar', 'Swamy', 14)\n"
     ]
    }
   ],
   "source": [
    "# Question 11 - TSQL_CLASS DB\n",
    "# Select all the data of employees that work in department 14\n",
    "\n",
    "# Create the Cursor()\n",
    "cursor = conn.cursor()\n",
    "\n",
    "# Using the where statement to filter emplayees that work in department 14 only \n",
    "cursor.execute(\"\"\"SELECT * FROM [TSQL_CLASS].[dbo].[Employees] WHERE Department = 14\"\"\")\n",
    "for row in cursor:\n",
    "    print(row)\n",
    "\n",
    "# close the cursor\n",
    "# cursor.close()\n",
    "# conn.close()    "
   ]
  },
  {
   "cell_type": "code",
   "execution_count": 7,
   "id": "423cb2df",
   "metadata": {},
   "outputs": [
    {
     "name": "stdout",
     "output_type": "stream",
     "text": [
      "(222364883, 'Carol', 'Smith', 37)\n",
      "(326587417, 'Joe', 'Stevens', 37)\n",
      "(332569843, 'George', 'ODonnell', 77)\n",
      "(631231482, 'David', 'Smith', 77)\n"
     ]
    }
   ],
   "source": [
    "# Question 12 - Model 2\n",
    "#Select all the data of employees that work in department 37 or department 77\n",
    "\n",
    "# Create a Cursor()\n",
    "cursor = conn.cursor()\n",
    "\n",
    "# Using a where statement with an OR logical operator to filter employees in department 37 and 77\n",
    "cursor.execute(\"\"\"SELECT * FROM [TSQL_Class].[dbo].[Employees] WHERE Department = 37\n",
    "                OR Department = 77\"\"\")\n",
    "for row in cursor:\n",
    "    print(row)\n",
    "\n",
    "# close the cursor\n",
    "# cursor.close()\n",
    "# conn.close()  "
   ]
  },
  {
   "cell_type": "code",
   "execution_count": 8,
   "id": "cb1b0af3",
   "metadata": {},
   "outputs": [
    {
     "name": "stdout",
     "output_type": "stream",
     "text": [
      "(152934485, 'Sasi', 'Scott', 14)\n",
      "(222364883, 'Carol', 'Smith', 37)\n",
      "(326587417, 'Joe', 'Stevens', 37)\n",
      "(631231482, 'David', 'Smith', 77)\n",
      "(845657246, 'Kumar', 'Swamy', 14)\n"
     ]
    }
   ],
   "source": [
    "# Question 13 - TSQL_Class\n",
    "# Select all the data of employees whose last name begins with an \"S\".\n",
    "\n",
    "# Create the Cursor()\n",
    "cursor = conn.cursor()\n",
    "\n",
    "# Using a where statement to filter for employee only where the last name begins with an S\n",
    "cursor.execute(\"\"\"SELECT TOP 5 * FROM [TSQL_Class].[dbo].[Employees] WHERE LastName like 's%'\"\"\")\n",
    "for row in cursor:\n",
    "    print(row)\n",
    "    \n",
    "# close the cursor\n",
    "# cursor.close()\n",
    "# conn.close() "
   ]
  },
  {
   "cell_type": "code",
   "execution_count": 3,
   "id": "5f5b05c1",
   "metadata": {},
   "outputs": [
    {
     "name": "stdout",
     "output_type": "stream",
     "text": [
      "(1, 'Chicago', 3)\n",
      "(2, 'Chicago', 4)\n",
      "(3, 'New York', 7)\n",
      "(4, 'Los Angeles', 2)\n",
      "(5, 'San Francisco', 8)\n"
     ]
    }
   ],
   "source": [
    "# Question 14 - TSQL_Class DB\n",
    "# Select all warehouses.\n",
    "\n",
    "# Create a Cursor()\n",
    "cursor = conn.cursor()\n",
    "\n",
    "# Using the SELECT statement to print all warehouses in Warehouse table\n",
    "cursor.execute(\"\"\"SELECT TOP 5 * FROM [TSQL_CLASS].[dbo].[Warehouses]\"\"\")\n",
    "for row in cursor: \n",
    "    print(row)\n",
    "\n",
    "# close the cursor\n",
    "# cursor.close()\n",
    "# conn.close() "
   ]
  },
  {
   "cell_type": "code",
   "execution_count": 7,
   "id": "f2895fa5",
   "metadata": {},
   "outputs": [
    {
     "name": "stdout",
     "output_type": "stream",
     "text": [
      "('0MN7', 'Rocks', 180.0, 3)\n",
      "('4H8P', 'Rocks', 250.0, 1)\n",
      "('4RT3', 'Scissors', 190.0, 4)\n",
      "('7G3H', 'Rocks', 200.0, 1)\n",
      "('9J6F', 'Papers', 175.0, 2)\n"
     ]
    }
   ],
   "source": [
    "# Question 15 - TSQL_Class DB\n",
    "# Select all boxes with a value larger than $15\n",
    "\n",
    "# Create the Cursor\n",
    "cursor = conn.cursor()\n",
    "\n",
    "# Using the WHERE statement to filter for boxes with value more than $150\n",
    "cursor.execute(\"\"\"SELECT TOP 5 * FROM [TSQL_Class].[dbo].[Boxes]\n",
    "                WHERE VALUE > 150\"\"\")\n",
    "for row in cursor:\n",
    "    print(row)\n",
    "\n",
    "# close the cursor\n",
    "# cursor.close()\n",
    "# conn.close() "
   ]
  },
  {
   "cell_type": "code",
   "execution_count": 18,
   "id": "1ed1b770",
   "metadata": {},
   "outputs": [
    {
     "name": "stdout",
     "output_type": "stream",
     "text": [
      "('Papers', )\n",
      "('Rocks', )\n",
      "('Scissors', )\n"
     ]
    }
   ],
   "source": [
    "# Question 16 - TSQL_Class DB\n",
    "# Select all distinct contents in all the boxes.\n",
    "\n",
    "# Create the Cursor\n",
    "cursor = conn.cursor()\n",
    "\n",
    "# Using the distinct keyword to select only unique contents in all the boxes\n",
    "cursor.execute(\"\"\"SELECT DISTINCT Contents FROM [TSQL_Class].[dbo].[Boxes]\"\"\")\n",
    "for row in cursor:\n",
    "    print(row)\n",
    "\n",
    "# close the cursor\n",
    "# cursor.close()\n",
    "# conn.close() "
   ]
  },
  {
   "cell_type": "code",
   "execution_count": 19,
   "id": "ee3d8262",
   "metadata": {},
   "outputs": [
    {
     "name": "stdout",
     "output_type": "stream",
     "text": [
      "(1, 'Sprocket')\n",
      "(2, 'Screw')\n",
      "(3, 'Nut')\n",
      "(4, 'Bolt')\n"
     ]
    }
   ],
   "source": [
    "# Question 17 - TSQL_Class DB\n",
    "# Select the name of all the pieces. \n",
    "\n",
    "# Create the Cursor\n",
    "cursor = conn.cursor()\n",
    "\n",
    "# Using the SELECT statement for all of the pieces in the Pieces table\n",
    "cursor.execute(\"\"\"SELECT TOP 5 * FROM [TSQL_Class].[dbo].[Pieces]\"\"\")\n",
    "for row in cursor:\n",
    "    print(row)\n",
    "    \n",
    "# close the cursor\n",
    "# cursor.close()\n",
    "# conn.close() "
   ]
  },
  {
   "cell_type": "code",
   "execution_count": 20,
   "id": "500770d1",
   "metadata": {},
   "outputs": [
    {
     "name": "stdout",
     "output_type": "stream",
     "text": [
      "('HAL', 'Clarke Enterprises')\n",
      "('RBT', 'Susan Calvin Corp.')\n",
      "('TNBC', 'Skellington Supplies')\n"
     ]
    }
   ],
   "source": [
    "# Question 18 - TSQL_Class DB\n",
    "# Select all the provider‘s data\n",
    "\n",
    "# Create the cursor\n",
    "cursor = conn.cursor()\n",
    "\n",
    "# Using the SELECT statement to print all the provider's data\n",
    "cursor.execute(\"\"\"SELECT TOP 5 * FROM [TSQL_Class].[dbo].[Providers]\"\"\")\n",
    "for row in cursor: \n",
    "    print(row)\n",
    "    \n",
    "# close the cursor\n",
    "# cursor.close()\n",
    "# conn.close() "
   ]
  },
  {
   "cell_type": "code",
   "execution_count": null,
   "id": "1dcbe76e",
   "metadata": {},
   "outputs": [],
   "source": []
  }
 ],
 "metadata": {
  "kernelspec": {
   "display_name": "Python 3 (ipykernel)",
   "language": "python",
   "name": "python3"
  },
  "language_info": {
   "codemirror_mode": {
    "name": "ipython",
    "version": 3
   },
   "file_extension": ".py",
   "mimetype": "text/x-python",
   "name": "python",
   "nbconvert_exporter": "python",
   "pygments_lexer": "ipython3",
   "version": "3.9.13"
  }
 },
 "nbformat": 4,
 "nbformat_minor": 5
}
